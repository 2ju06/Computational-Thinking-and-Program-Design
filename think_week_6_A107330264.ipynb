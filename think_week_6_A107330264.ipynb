{
  "nbformat": 4,
  "nbformat_minor": 0,
  "metadata": {
    "colab": {
      "name": "think week-6 A107330264.ipynb",
      "provenance": [],
      "collapsed_sections": []
    },
    "kernelspec": {
      "name": "python3",
      "display_name": "Python 3"
    }
  },
  "cells": [
    {
      "cell_type": "code",
      "metadata": {
        "id": "xfHZSgDQijl3",
        "colab_type": "code",
        "colab": {
          "base_uri": "https://localhost:8080/",
          "height": 126
        },
        "outputId": "db7ca74e-f938-476a-9bd5-a17c99d9d7f4"
      },
      "source": [
        "print(\"請問你貴姓大名?\")\n",
        "print(\"你問你年紀多大?\")\n",
        "print(\"請問你體重多少?\")\n",
        "print(\"你好， 楊丞昊\")\n",
        "print(\"原來你， 21 歲\")\n",
        "print(\"體重為， 90\")"
      ],
      "execution_count": 1,
      "outputs": [
        {
          "output_type": "stream",
          "text": [
            "請問你貴姓大名?\n",
            "你問你年紀多大?\n",
            "請問你體重多少?\n",
            "你好， 楊丞昊\n",
            "原來你， 21 歲\n",
            "體重為， 90\n"
          ],
          "name": "stdout"
        }
      ]
    },
    {
      "cell_type": "code",
      "metadata": {
        "id": "eSWYMTxmimm_",
        "colab_type": "code",
        "colab": {
          "base_uri": "https://localhost:8080/",
          "height": 126
        },
        "outputId": "8ebc2ff3-a0ab-4e36-b310-baea3dfe1dbb"
      },
      "source": [
        "a = input(\"請問你貴姓大名?\")\n",
        "b = int(input(\"你問你年紀多大?\"))\n",
        "c = int(input(\"請問你體重多少?\"))\n",
        "print(\"你好，\" ,a)\n",
        "print(\"原來你，\",b,\"歲\")\n",
        "print(\"體重為，\",c)"
      ],
      "execution_count": 2,
      "outputs": [
        {
          "output_type": "stream",
          "text": [
            "請問你貴姓大名?楊丞昊\n",
            "你問你年紀多大?21\n",
            "請問你體重多少?90\n",
            "你好， 楊丞昊\n",
            "原來你， 21 歲\n",
            "體重為， 90\n"
          ],
          "name": "stdout"
        }
      ]
    },
    {
      "cell_type": "code",
      "metadata": {
        "id": "bQ_tYkNPiqyV",
        "colab_type": "code",
        "colab": {
          "base_uri": "https://localhost:8080/",
          "height": 126
        },
        "outputId": "df87f4f8-6622-47d7-e7a9-1c8f1e80278b"
      },
      "source": [
        "name = input(\"請問你貴姓大名?\")\n",
        "age = input(\"你問你年紀多大?\")\n",
        "weight = input(\"請問你體重多少?\")\n",
        "print(\"你好，\" ,name)\n",
        "print(\"原來你，\",age,\"歲\")\n",
        "print(\"體重為，\",weight)"
      ],
      "execution_count": 3,
      "outputs": [
        {
          "output_type": "stream",
          "text": [
            "請問你貴姓大名?楊丞昊\n",
            "你問你年紀多大?21\n",
            "請問你體重多少?90\n",
            "你好， 楊丞昊\n",
            "原來你， 21 歲\n",
            "體重為， 90\n"
          ],
          "name": "stdout"
        }
      ]
    },
    {
      "cell_type": "code",
      "metadata": {
        "id": "dyCvInhhi3pM",
        "colab_type": "code",
        "colab": {}
      },
      "source": [
        ""
      ],
      "execution_count": 0,
      "outputs": []
    }
  ]
}