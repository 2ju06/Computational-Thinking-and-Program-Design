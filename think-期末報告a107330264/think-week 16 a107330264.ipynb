{
  "nbformat": 4,
  "nbformat_minor": 0,
  "metadata": {
    "colab": {
      "name": "Untitled11.ipynb",
      "provenance": [],
      "collapsed_sections": []
    },
    "kernelspec": {
      "name": "python3",
      "display_name": "Python 3"
    }
  },
  "cells": [
    {
      "cell_type": "markdown",
      "metadata": {
        "id": "H8Ld6GTpstsE",
        "colab_type": "text"
      },
      "source": [
        "以圖書借閱機器人為設計理念\n",
        "你好我是借書小幫手1號，我來幫助您處理借閱書籍的相關事務\n",
        "您這次想借哪一本書呢：我要借\n",
        "您是要借 這本書對嗎：\n",
        "請確認您今天借書的日期是： 月 日\n",
        "請選擇您借閱的時間，7天、14天、21天、30天：\n",
        "您的還書時間是月 日，請記得準時還書\n",
        "歡迎您下一次來借書再見"
      ]
    },
    {
      "cell_type": "code",
      "metadata": {
        "id": "jv_xM0q_s-Qx",
        "colab_type": "code",
        "colab": {
          "base_uri": "https://localhost:8080/",
          "height": 243
        },
        "outputId": "c25b8d3e-e6c8-4e6f-cde5-52eb92489406"
      },
      "source": [
        "print(\"你好我是借書小幫手1號，我來幫助您處理借閱書籍的相關事務\")\n",
        "print(\"您這次想借哪一本書呢\")\n",
        "a = input(\"我要借\")\n",
        "print(\"你想要借\",a,\"這本書對嗎\")\n",
        "print(\"請確認您今天借書的日期是\")\n",
        "month = input(\"輸入月份\")\n",
        "day = input(\"輸入日期\")\n",
        "print(\"今天是\",month,\"月\",day,\"日\")\n",
        "print(\"請選擇您借閱的時間7天、14天、21天、30天\")\n",
        "time = input(\"輸入您要借閱的時間\")\n",
        "print(\"您要借閱\",a,\"這本書\",time,\"對嗎\")\n",
        "day = int(day)\n",
        "time = int(time)\n",
        "month = int(month)\n",
        "day2 = day+time-31\n",
        "if(day+time//30>1):\n",
        "  month2 = int(month+1)\n",
        "print(\"您的還書時間是\",month2,\"月\",day2,\"日\")\n",
        "print(\"請記得準時還書，歡迎您下一次借書，再見\")"
      ],
      "execution_count": null,
      "outputs": [
        {
          "output_type": "stream",
          "text": [
            "你好我是借書小幫手1號，我來幫助您處理借閱書籍的相關事務\n",
            "您這次想借哪一本書呢\n",
            "我要借00\n",
            "你想要借 00 這本書對嗎\n",
            "請確認您今天借書的日期是\n",
            "輸入月份6\n",
            "輸入日期16\n",
            "今天是 6 月 16 日\n",
            "請選擇您借閱的時間7天、14天、21天、30天\n",
            "輸入您要借閱的時間21\n",
            "您要借閱 00 這本書 21 對嗎\n",
            "您的還書時間是 7 月 6 日\n",
            "請記得準時還書，歡迎您下一次借書，再見\n"
          ],
          "name": "stdout"
        }
      ]
    }
  ]
}