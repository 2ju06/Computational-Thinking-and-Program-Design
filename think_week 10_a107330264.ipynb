{
  "nbformat": 4,
  "nbformat_minor": 0,
  "metadata": {
    "kernelspec": {
      "display_name": "Python 3",
      "language": "python",
      "name": "python3"
    },
    "language_info": {
      "codemirror_mode": {
        "name": "ipython",
        "version": 3
      },
      "file_extension": ".py",
      "mimetype": "text/x-python",
      "name": "python",
      "nbconvert_exporter": "python",
      "pygments_lexer": "ipython3",
      "version": "3.7.4"
    },
    "colab": {
      "name": "Copy of Basic Python複習.ipynb",
      "provenance": [],
      "collapsed_sections": []
    }
  },
  "cells": [
    {
      "cell_type": "markdown",
      "metadata": {
        "id": "7Pd-0JaeyT1g",
        "colab_type": "text"
      },
      "source": [
        "###全班40人分組，每五位同學一組，老師規定依座號順序分組，也就是1號到5號一組，6號到10號一組，請寫一個程式允許使用者輸入座號，輸出分組的組別。"
      ]
    },
    {
      "cell_type": "code",
      "metadata": {
        "id": "RFVK4eqRx5fW",
        "colab_type": "code",
        "outputId": "0e43abc7-cb4d-4d43-a9ce-5fb0724dc1e9",
        "colab": {
          "base_uri": "https://localhost:8080/",
          "height": 54
        }
      },
      "source": [
        "#班上共40人，每5人分為一組\n",
        "\n",
        "座號 = int(input(\"輸入你的座號\"))\n",
        "a = 座號-1\n",
        "print(a//5+1)\n"
      ],
      "execution_count": 0,
      "outputs": [
        {
          "output_type": "stream",
          "text": [
            "輸入你的座號17\n",
            "4\n"
          ],
          "name": "stdout"
        }
      ]
    },
    {
      "cell_type": "markdown",
      "metadata": {
        "id": "sN926QvsGUXO",
        "colab_type": "text"
      },
      "source": [
        "### LBD 1: 請設計一個程式計算圓面積與圓周長，依輸入的半徑計算圓面積與圓周長。"
      ]
    },
    {
      "cell_type": "code",
      "metadata": {
        "id": "2-slz5kVGUXP",
        "colab_type": "code",
        "outputId": "6eced4e6-2248-4e5f-ed68-a09fd82ead5c",
        "colab": {
          "base_uri": "https://localhost:8080/",
          "height": 72
        }
      },
      "source": [
        "#圓面積為圓半徑*圓半徑*π(3.14)\n",
        "#圓周長為圓半徑*2*π(3.14)\n",
        "\n",
        "圓半徑 =int(input(\"輸入圓半徑\"))\n",
        "π = 3.14\n",
        "print(\"圓面積是\",圓半徑**2*π)\n",
        "print(\"圓周長是\",圓半徑*2*π)"
      ],
      "execution_count": 0,
      "outputs": [
        {
          "output_type": "stream",
          "text": [
            "輸入圓半徑3\n",
            "圓面積是 28.26\n",
            "圓周長是 18.84\n"
          ],
          "name": "stdout"
        }
      ]
    },
    {
      "cell_type": "markdown",
      "metadata": {
        "id": "oOcVBQ0qGUXS",
        "colab_type": "text"
      },
      "source": [
        "### LBD 2: 請設計一個程式將輸入的攝氏溫度轉成華氏溫度，轉換公式如下:華氏溫度= 攝氏溫度*9/5+32"
      ]
    },
    {
      "cell_type": "code",
      "metadata": {
        "id": "I2-ot2oLGUXT",
        "colab_type": "code",
        "outputId": "2e50ebf4-baa8-4572-a2d6-5f6d6f8893a4",
        "colab": {
          "base_uri": "https://localhost:8080/",
          "height": 54
        }
      },
      "source": [
        "#華氏溫度等於攝氏溫度*9/5+32\n",
        "\n",
        "攝氏溫度 = float(input(\"輸入攝氏溫度\"))\n",
        "print(\"華氏溫度是\",攝氏溫度*9/5+32,\"度\")"
      ],
      "execution_count": 0,
      "outputs": [
        {
          "output_type": "stream",
          "text": [
            "輸入攝氏溫度35.2\n",
            "華氏溫度是 95.36 度\n"
          ],
          "name": "stdout"
        }
      ]
    },
    {
      "cell_type": "markdown",
      "metadata": {
        "id": "c14IvE9CGUXY",
        "colab_type": "text"
      },
      "source": [
        "### LBD 3: 假設上衣300元、褲子350元與背心400元，使用者可以自行輸入三種服裝的數量，請設計一個程式計算訂購服裝的總金額。"
      ]
    },
    {
      "cell_type": "code",
      "metadata": {
        "id": "2LaEyo0eGUXZ",
        "colab_type": "code",
        "outputId": "ae55c455-0f6b-463f-f885-cb55702d6bbf",
        "colab": {
          "base_uri": "https://localhost:8080/",
          "height": 90
        }
      },
      "source": [
        "#上衣300元、褲子350元、背心400元\n",
        "上衣 = int(input(\"輸入購買的上衣數量\"))\n",
        "褲子 = int(input(\"輸入購買的褲子數量\"))\n",
        "背心 = int(input(\"輸入購買的背心數量\"))\n",
        "\n",
        "print(上衣*300+褲子*350+背心*400)"
      ],
      "execution_count": 0,
      "outputs": [
        {
          "output_type": "stream",
          "text": [
            "輸入購買的上衣數量1\n",
            "輸入購買的褲子數量1\n",
            "輸入購買的背心數量1\n",
            "1050\n"
          ],
          "name": "stdout"
        }
      ]
    },
    {
      "cell_type": "markdown",
      "metadata": {
        "id": "fRsgdKMxGUXc",
        "colab_type": "text"
      },
      "source": [
        "### LBD 4: 為了刺激銷售量，賣場通常買一打會比買一罐便宜，假設一罐賣20元，一打賣200元，請設計一個程式計算買幾罐需花多少錢，若不足一打就個別買。"
      ]
    },
    {
      "cell_type": "code",
      "metadata": {
        "id": "HAqDX3vrGUXd",
        "colab_type": "code",
        "outputId": "a700b5c0-0dea-42f4-e1d2-5e247dd17007",
        "colab": {
          "base_uri": "https://localhost:8080/",
          "height": 54
        }
      },
      "source": [
        "#一個20元\n",
        "#一打12個\n",
        "#一打200元\n",
        "數量 = int(input(\"輸入購買的數量\"))\n",
        "一打的價格 = (數量 // 12*200)\n",
        "散裝的價格 = (數量 % 12*20)\n",
        "print(\"總價格是\",一打的價格+散裝的價格)"
      ],
      "execution_count": 0,
      "outputs": [
        {
          "output_type": "stream",
          "text": [
            "輸入購買的數量20\n",
            "總價格是 360\n"
          ],
          "name": "stdout"
        }
      ]
    },
    {
      "cell_type": "markdown",
      "metadata": {
        "id": "D2HCggJ1GUXf",
        "colab_type": "text"
      },
      "source": [
        "### LBD 5: 請輸入第一次期中考、第二次期中考與期末考成績，成績皆為整數，請計算分數的加總與平均。"
      ]
    },
    {
      "cell_type": "code",
      "metadata": {
        "id": "-mLPMTskGUXg",
        "colab_type": "code",
        "outputId": "f1cd47d3-2cc3-4979-eccf-aafcba9d5100",
        "colab": {
          "base_uri": "https://localhost:8080/",
          "height": 108
        }
      },
      "source": [
        "a = int(input(\"輸入第一次期中考成績\"))\n",
        "b = int(input(\"輸入第二次期中考成績\"))\n",
        "c = int(input(\"輸入期末考成績\"))\n",
        "print(a+b+c)\n",
        "print((a+b+c)/3)"
      ],
      "execution_count": 0,
      "outputs": [
        {
          "output_type": "stream",
          "text": [
            "輸入第一次期中考成績50\n",
            "輸入第二次期中考成績60\n",
            "輸入期末考成績70\n",
            "180\n",
            "60.0\n"
          ],
          "name": "stdout"
        }
      ]
    }
  ]
}