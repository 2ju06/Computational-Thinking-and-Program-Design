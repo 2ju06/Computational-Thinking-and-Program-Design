{
  "nbformat": 4,
  "nbformat_minor": 0,
  "metadata": {
    "colab": {
      "name": "Untitled10.ipynb",
      "provenance": [],
      "collapsed_sections": []
    },
    "kernelspec": {
      "name": "python3",
      "display_name": "Python 3"
    }
  },
  "cells": [
    {
      "cell_type": "code",
      "metadata": {
        "id": "20gLr9dawMeb",
        "colab_type": "code",
        "outputId": "577aa745-6c8f-47cf-922e-b4a2d2336a3c",
        "colab": {
          "base_uri": "https://localhost:8080/",
          "height": 52
        }
      },
      "source": [
        "成績 = int(input(\"輸入考試成績\"))\n",
        "if(成績<60):\n",
        "  print(\"要加油\")\n",
        "else:\n",
        "  if(80>成績>=60):\n",
        "    print(\"不錯歐\")\n",
        "  else:\n",
        "    print(\"非常好\")\n"
      ],
      "execution_count": 16,
      "outputs": [
        {
          "output_type": "stream",
          "text": [
            "輸入考試成績59\n",
            "要加油\n"
          ],
          "name": "stdout"
        }
      ]
    }
  ]
}