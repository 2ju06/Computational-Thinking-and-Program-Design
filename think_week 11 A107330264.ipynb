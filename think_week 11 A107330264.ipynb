{
  "nbformat": 4,
  "nbformat_minor": 0,
  "metadata": {
    "colab": {
      "name": "Untitled7.ipynb",
      "provenance": []
    },
    "kernelspec": {
      "name": "python3",
      "display_name": "Python 3"
    }
  },
  "cells": [
    {
      "cell_type": "markdown",
      "metadata": {
        "id": "OAuNyK2TEgRC",
        "colab_type": "text"
      },
      "source": [
        "#以圖書借閱機器人為設計理念"
      ]
    },
    {
      "cell_type": "markdown",
      "metadata": {
        "id": "dnZ0mIpjEvZd",
        "colab_type": "text"
      },
      "source": [
        "#哈囉，你好我是借書小幫手1號，我來幫助您處理借閱書籍的相關事務"
      ]
    },
    {
      "cell_type": "markdown",
      "metadata": {
        "id": "xaha0o4WGBPw",
        "colab_type": "text"
      },
      "source": [
        "#您這次想借哪一本書呢：我要借"
      ]
    },
    {
      "cell_type": "markdown",
      "metadata": {
        "id": "udjf4XsRGNcd",
        "colab_type": "text"
      },
      "source": [
        "#您是要借  這本書對嗎："
      ]
    },
    {
      "cell_type": "markdown",
      "metadata": {
        "id": "4ot1BVqbLhZ7",
        "colab_type": "text"
      },
      "source": [
        "#請確認您今天借書的日期是： 月 日"
      ]
    },
    {
      "cell_type": "markdown",
      "metadata": {
        "id": "ursoy9lKLLh0",
        "colab_type": "text"
      },
      "source": [
        "#請選擇您覺得適合的還書時間，7天、14天、21天、一個月："
      ]
    },
    {
      "cell_type": "markdown",
      "metadata": {
        "id": "3XLbgWZlLyjB",
        "colab_type": "text"
      },
      "source": [
        "#您的還書時間是月 日，請記得準時還書"
      ]
    },
    {
      "cell_type": "markdown",
      "metadata": {
        "id": "tLQ9UKlkM26t",
        "colab_type": "text"
      },
      "source": [
        "#歡迎您下一次來借書再見"
      ]
    }
  ]
}