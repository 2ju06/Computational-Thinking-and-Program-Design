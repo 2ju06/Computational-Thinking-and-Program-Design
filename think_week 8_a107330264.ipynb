{
  "nbformat": 4,
  "nbformat_minor": 0,
  "metadata": {
    "colab": {
      "name": "Untitled4.ipynb",
      "provenance": [],
      "collapsed_sections": []
    },
    "kernelspec": {
      "name": "python3",
      "display_name": "Python 3"
    }
  },
  "cells": [
    {
      "cell_type": "code",
      "metadata": {
        "id": "4advcBdWM5hy",
        "colab_type": "code",
        "colab": {}
      },
      "source": [
        "#魔球電影時長：133分鐘"
      ],
      "execution_count": 0,
      "outputs": []
    },
    {
      "cell_type": "code",
      "metadata": {
        "id": "izuMEaKNNTxa",
        "colab_type": "code",
        "colab": {
          "base_uri": "https://localhost:8080/",
          "height": 54
        },
        "outputId": "7dbf2133-58f6-42d6-bc72-8bbb8d74b862"
      },
      "source": [
        "movieduration1 = 133\n",
        "timehour1 = (movieduration // 60)\n",
        "timeminute1 = (movieduration % 60)\n",
        "\n",
        "movieduration2 = (timehour1*60)+timeminute1\n",
        "\n",
        "print(\"魔球電影時長為\",timehour1,\"小時\",timeminute1,\"分鐘\")\n",
        "print(\"電影魔球時長為\",movieduration2,\"分鐘\")\n"
      ],
      "execution_count": 28,
      "outputs": [
        {
          "output_type": "stream",
          "text": [
            "魔球電影時長為 2 小時 13 分鐘\n",
            "電影魔球時長為 133 分鐘\n"
          ],
          "name": "stdout"
        }
      ]
    }
  ]
}