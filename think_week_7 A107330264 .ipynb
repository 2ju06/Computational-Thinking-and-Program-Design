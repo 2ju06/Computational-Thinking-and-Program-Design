{
  "nbformat": 4,
  "nbformat_minor": 0,
  "metadata": {
    "colab": {
      "name": "Untitled2.ipynb",
      "provenance": [],
      "collapsed_sections": []
    },
    "kernelspec": {
      "name": "python3",
      "display_name": "Python 3"
    }
  },
  "cells": [
    {
      "cell_type": "markdown",
      "metadata": {
        "id": "ZXWn4iyGsYmB",
        "colab_type": "text"
      },
      "source": [
        "#記錄韓劇梨泰院class相關資訊\n",
        "#紀錄影片名稱、影片總時長、上映時間、導演、主要演員\n",
        "#資料來源：維基百科 https://zh.wikipedia.org/wiki/%E6%A2%A8%E6%B3%B0%E9%99%A2Class"
      ]
    },
    {
      "cell_type": "code",
      "metadata": {
        "id": "3-whD_unsePw",
        "colab_type": "code",
        "outputId": "7943d30e-c65a-4b05-c3e6-cf0500972ea4",
        "colab": {
          "base_uri": "https://localhost:8080/",
          "height": 108
        }
      },
      "source": [
        "video_title = \"梨泰院class\"\n",
        "Video_duration = \"960分鐘\"\n",
        "video_Release_date = \"2020/01/31\"\n",
        "video_director = \"金成允,姜敏九\"\n",
        "video_main_character = \"朴敘俊,金多美,權娜拉,劉在明\"\n",
        "print(\"影片名稱 \",video_title)\n",
        "print(\"影片總時長 \",Video_duration)\n",
        "print(\"上映時間 \",video_Release_date)\n",
        "print(\"導演 \",video_director)\n",
        "print(\"主要演員 \",video_main_character)"
      ],
      "execution_count": 20,
      "outputs": [
        {
          "output_type": "stream",
          "text": [
            "影片名稱  梨泰院class\n",
            "影片總時長  960分鐘\n",
            "上映時間  2020/01/31\n",
            "導演  金成允,姜敏九\n",
            "主要演員  朴敘俊,金多美,權娜拉,劉在明\n"
          ],
          "name": "stdout"
        }
      ]
    }
  ]
}