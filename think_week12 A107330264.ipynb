{
  "nbformat": 4,
  "nbformat_minor": 0,
  "metadata": {
    "colab": {
      "name": "Untitled9.ipynb",
      "provenance": [],
      "collapsed_sections": []
    },
    "kernelspec": {
      "name": "python3",
      "display_name": "Python 3"
    }
  },
  "cells": [
    {
      "cell_type": "code",
      "metadata": {
        "id": "z85SMRWSJF6Z",
        "colab_type": "code",
        "colab": {
          "base_uri": "https://localhost:8080/",
          "height": 87
        },
        "outputId": "45f853d7-4aab-4eb1-b9b1-68840098b63b"
      },
      "source": [
        "noodle = input(\"有麵嗎?(yes/no)\")\n",
        "sauce = input(\"有醬料嗎?()yes/no\")\n",
        "#process\n",
        "if noodle == \"yes\":\n",
        "  if sauce == \"yes\":\n",
        "    print(\"可做義大利麵\")\n",
        "#Output\n",
        "print(\"well donel!\")\n"
      ],
      "execution_count": 5,
      "outputs": [
        {
          "output_type": "stream",
          "text": [
            "有麵嗎?(yes/no)yes\n",
            "有醬料嗎?()yes/noyes\n",
            "可做義大利麵\n",
            "well donel!\n"
          ],
          "name": "stdout"
        }
      ]
    }
  ]
}